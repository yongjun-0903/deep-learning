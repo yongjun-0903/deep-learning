{
 "cells": [
  {
   "cell_type": "code",
   "execution_count": 17,
   "metadata": {},
   "outputs": [],
   "source": [
    "from pandas import read_csv, unique\n",
    "\n",
    "import numpy as np\n",
    "import pandas as pd\n",
    "import matplotlib.pyplot as plt\n",
    "\n",
    "from scipy.interpolate import interp1d\n",
    "from scipy.stats import mode\n",
    "\n",
    "from sklearn.preprocessing import LabelEncoder\n",
    "from sklearn.metrics import classification_report, confusion_matrix, ConfusionMatrixDisplay\n",
    "\n",
    "from tensorflow import stack\n",
    "from sklearn.model_selection import train_test_split \n",
    "from keras.models import Sequential\n",
    "from keras.layers import Dense, GlobalAveragePooling1D, BatchNormalization, MaxPool1D, Reshape, Activation, Input\n",
    "from keras.layers import Conv1D, LSTM, Dropout, TimeDistributed, RepeatVector\n",
    "from keras.callbacks import ModelCheckpoint, EarlyStopping\n",
    "from sklearn.preprocessing import StandardScaler\n",
    "from tensorflow.keras.models import Model\n",
    "from tensorflow.keras.optimizers import Adam, RMSprop\n",
    "from sklearn.ensemble import IsolationForest\n",
    "from keras import regularizers\n",
    "%matplotlib inline\n",
    "\n",
    "import warnings\n",
    "warnings.filterwarnings(\"ignore\")"
   ]
  },
  {
   "cell_type": "code",
   "execution_count": 2,
   "metadata": {},
   "outputs": [
    {
     "data": {
      "text/html": [
       "<div>\n",
       "<style scoped>\n",
       "    .dataframe tbody tr th:only-of-type {\n",
       "        vertical-align: middle;\n",
       "    }\n",
       "\n",
       "    .dataframe tbody tr th {\n",
       "        vertical-align: top;\n",
       "    }\n",
       "\n",
       "    .dataframe thead th {\n",
       "        text-align: right;\n",
       "    }\n",
       "</style>\n",
       "<table border=\"1\" class=\"dataframe\">\n",
       "  <thead>\n",
       "    <tr style=\"text-align: right;\">\n",
       "      <th></th>\n",
       "      <th>user-id</th>\n",
       "      <th>activity</th>\n",
       "      <th>timestamp</th>\n",
       "      <th>X</th>\n",
       "      <th>Y</th>\n",
       "      <th>Z</th>\n",
       "    </tr>\n",
       "  </thead>\n",
       "  <tbody>\n",
       "    <tr>\n",
       "      <th>0</th>\n",
       "      <td>33</td>\n",
       "      <td>Jogging</td>\n",
       "      <td>49105962326000</td>\n",
       "      <td>-0.694638</td>\n",
       "      <td>12.680544</td>\n",
       "      <td>0.503953</td>\n",
       "    </tr>\n",
       "    <tr>\n",
       "      <th>1</th>\n",
       "      <td>33</td>\n",
       "      <td>Jogging</td>\n",
       "      <td>49106062271000</td>\n",
       "      <td>5.012288</td>\n",
       "      <td>11.264028</td>\n",
       "      <td>0.953424</td>\n",
       "    </tr>\n",
       "    <tr>\n",
       "      <th>2</th>\n",
       "      <td>33</td>\n",
       "      <td>Jogging</td>\n",
       "      <td>49106112167000</td>\n",
       "      <td>4.903325</td>\n",
       "      <td>10.882658</td>\n",
       "      <td>-0.081722</td>\n",
       "    </tr>\n",
       "    <tr>\n",
       "      <th>3</th>\n",
       "      <td>33</td>\n",
       "      <td>Jogging</td>\n",
       "      <td>49106222305000</td>\n",
       "      <td>-0.612916</td>\n",
       "      <td>18.496431</td>\n",
       "      <td>3.023717</td>\n",
       "    </tr>\n",
       "    <tr>\n",
       "      <th>4</th>\n",
       "      <td>33</td>\n",
       "      <td>Jogging</td>\n",
       "      <td>49106332290000</td>\n",
       "      <td>-1.184970</td>\n",
       "      <td>12.108489</td>\n",
       "      <td>7.205164</td>\n",
       "    </tr>\n",
       "    <tr>\n",
       "      <th>...</th>\n",
       "      <td>...</td>\n",
       "      <td>...</td>\n",
       "      <td>...</td>\n",
       "      <td>...</td>\n",
       "      <td>...</td>\n",
       "      <td>...</td>\n",
       "    </tr>\n",
       "    <tr>\n",
       "      <th>1098199</th>\n",
       "      <td>19</td>\n",
       "      <td>Sitting</td>\n",
       "      <td>131623331483000</td>\n",
       "      <td>9.000000</td>\n",
       "      <td>-1.570000</td>\n",
       "      <td>1.690000</td>\n",
       "    </tr>\n",
       "    <tr>\n",
       "      <th>1098200</th>\n",
       "      <td>19</td>\n",
       "      <td>Sitting</td>\n",
       "      <td>131623371431000</td>\n",
       "      <td>9.040000</td>\n",
       "      <td>-1.460000</td>\n",
       "      <td>1.730000</td>\n",
       "    </tr>\n",
       "    <tr>\n",
       "      <th>1098201</th>\n",
       "      <td>19</td>\n",
       "      <td>Sitting</td>\n",
       "      <td>131623411592000</td>\n",
       "      <td>9.080000</td>\n",
       "      <td>-1.380000</td>\n",
       "      <td>1.690000</td>\n",
       "    </tr>\n",
       "    <tr>\n",
       "      <th>1098202</th>\n",
       "      <td>19</td>\n",
       "      <td>Sitting</td>\n",
       "      <td>131623491487000</td>\n",
       "      <td>9.000000</td>\n",
       "      <td>-1.460000</td>\n",
       "      <td>1.730000</td>\n",
       "    </tr>\n",
       "    <tr>\n",
       "      <th>1098203</th>\n",
       "      <td>19</td>\n",
       "      <td>Sitting</td>\n",
       "      <td>131623531465000</td>\n",
       "      <td>8.880000</td>\n",
       "      <td>-1.330000</td>\n",
       "      <td>1.610000</td>\n",
       "    </tr>\n",
       "  </tbody>\n",
       "</table>\n",
       "<p>1098203 rows × 6 columns</p>\n",
       "</div>"
      ],
      "text/plain": [
       "         user-id activity        timestamp         X          Y         Z\n",
       "0             33  Jogging   49105962326000 -0.694638  12.680544  0.503953\n",
       "1             33  Jogging   49106062271000  5.012288  11.264028  0.953424\n",
       "2             33  Jogging   49106112167000  4.903325  10.882658 -0.081722\n",
       "3             33  Jogging   49106222305000 -0.612916  18.496431  3.023717\n",
       "4             33  Jogging   49106332290000 -1.184970  12.108489  7.205164\n",
       "...          ...      ...              ...       ...        ...       ...\n",
       "1098199       19  Sitting  131623331483000  9.000000  -1.570000  1.690000\n",
       "1098200       19  Sitting  131623371431000  9.040000  -1.460000  1.730000\n",
       "1098201       19  Sitting  131623411592000  9.080000  -1.380000  1.690000\n",
       "1098202       19  Sitting  131623491487000  9.000000  -1.460000  1.730000\n",
       "1098203       19  Sitting  131623531465000  8.880000  -1.330000  1.610000\n",
       "\n",
       "[1098203 rows x 6 columns]"
      ]
     },
     "execution_count": 2,
     "metadata": {},
     "output_type": "execute_result"
    }
   ],
   "source": [
    "df = pd.read_csv(\"./Data/WISDM.csv\", index_col=0)\n",
    "df"
   ]
  },
  {
   "cell_type": "code",
   "execution_count": 3,
   "metadata": {},
   "outputs": [
    {
     "data": {
      "text/plain": [
       "user-id      0\n",
       "activity     0\n",
       "timestamp    0\n",
       "X            0\n",
       "Y            0\n",
       "Z            0\n",
       "dtype: int64"
      ]
     },
     "execution_count": 3,
     "metadata": {},
     "output_type": "execute_result"
    }
   ],
   "source": [
    "df.isna().sum()"
   ]
  },
  {
   "cell_type": "code",
   "execution_count": 4,
   "metadata": {},
   "outputs": [
    {
     "data": {
      "text/plain": [
       "Walking       424397\n",
       "Jogging       342176\n",
       "Upstairs      122869\n",
       "Downstairs    100427\n",
       "Sitting        59939\n",
       "Standing       48395\n",
       "Name: activity, dtype: int64"
      ]
     },
     "execution_count": 4,
     "metadata": {},
     "output_type": "execute_result"
    }
   ],
   "source": [
    "df['activity'].value_counts()"
   ]
  },
  {
   "cell_type": "code",
   "execution_count": 5,
   "metadata": {},
   "outputs": [
    {
     "data": {
      "text/html": [
       "<div>\n",
       "<style scoped>\n",
       "    .dataframe tbody tr th:only-of-type {\n",
       "        vertical-align: middle;\n",
       "    }\n",
       "\n",
       "    .dataframe tbody tr th {\n",
       "        vertical-align: top;\n",
       "    }\n",
       "\n",
       "    .dataframe thead th {\n",
       "        text-align: right;\n",
       "    }\n",
       "</style>\n",
       "<table border=\"1\" class=\"dataframe\">\n",
       "  <thead>\n",
       "    <tr style=\"text-align: right;\">\n",
       "      <th></th>\n",
       "      <th>user-id</th>\n",
       "      <th>label</th>\n",
       "      <th>timestamp</th>\n",
       "      <th>X</th>\n",
       "      <th>Y</th>\n",
       "      <th>Z</th>\n",
       "    </tr>\n",
       "  </thead>\n",
       "  <tbody>\n",
       "    <tr>\n",
       "      <th>0</th>\n",
       "      <td>33</td>\n",
       "      <td>Jogging</td>\n",
       "      <td>49105962326000</td>\n",
       "      <td>-0.694638</td>\n",
       "      <td>12.680544</td>\n",
       "      <td>0.503953</td>\n",
       "    </tr>\n",
       "    <tr>\n",
       "      <th>1</th>\n",
       "      <td>33</td>\n",
       "      <td>Jogging</td>\n",
       "      <td>49106062271000</td>\n",
       "      <td>5.012288</td>\n",
       "      <td>11.264028</td>\n",
       "      <td>0.953424</td>\n",
       "    </tr>\n",
       "    <tr>\n",
       "      <th>2</th>\n",
       "      <td>33</td>\n",
       "      <td>Jogging</td>\n",
       "      <td>49106112167000</td>\n",
       "      <td>4.903325</td>\n",
       "      <td>10.882658</td>\n",
       "      <td>-0.081722</td>\n",
       "    </tr>\n",
       "    <tr>\n",
       "      <th>3</th>\n",
       "      <td>33</td>\n",
       "      <td>Jogging</td>\n",
       "      <td>49106222305000</td>\n",
       "      <td>-0.612916</td>\n",
       "      <td>18.496431</td>\n",
       "      <td>3.023717</td>\n",
       "    </tr>\n",
       "    <tr>\n",
       "      <th>4</th>\n",
       "      <td>33</td>\n",
       "      <td>Jogging</td>\n",
       "      <td>49106332290000</td>\n",
       "      <td>-1.184970</td>\n",
       "      <td>12.108489</td>\n",
       "      <td>7.205164</td>\n",
       "    </tr>\n",
       "    <tr>\n",
       "      <th>...</th>\n",
       "      <td>...</td>\n",
       "      <td>...</td>\n",
       "      <td>...</td>\n",
       "      <td>...</td>\n",
       "      <td>...</td>\n",
       "      <td>...</td>\n",
       "    </tr>\n",
       "    <tr>\n",
       "      <th>1098199</th>\n",
       "      <td>19</td>\n",
       "      <td>Sitting</td>\n",
       "      <td>131623331483000</td>\n",
       "      <td>9.000000</td>\n",
       "      <td>-1.570000</td>\n",
       "      <td>1.690000</td>\n",
       "    </tr>\n",
       "    <tr>\n",
       "      <th>1098200</th>\n",
       "      <td>19</td>\n",
       "      <td>Sitting</td>\n",
       "      <td>131623371431000</td>\n",
       "      <td>9.040000</td>\n",
       "      <td>-1.460000</td>\n",
       "      <td>1.730000</td>\n",
       "    </tr>\n",
       "    <tr>\n",
       "      <th>1098201</th>\n",
       "      <td>19</td>\n",
       "      <td>Sitting</td>\n",
       "      <td>131623411592000</td>\n",
       "      <td>9.080000</td>\n",
       "      <td>-1.380000</td>\n",
       "      <td>1.690000</td>\n",
       "    </tr>\n",
       "    <tr>\n",
       "      <th>1098202</th>\n",
       "      <td>19</td>\n",
       "      <td>Sitting</td>\n",
       "      <td>131623491487000</td>\n",
       "      <td>9.000000</td>\n",
       "      <td>-1.460000</td>\n",
       "      <td>1.730000</td>\n",
       "    </tr>\n",
       "    <tr>\n",
       "      <th>1098203</th>\n",
       "      <td>19</td>\n",
       "      <td>Sitting</td>\n",
       "      <td>131623531465000</td>\n",
       "      <td>8.880000</td>\n",
       "      <td>-1.330000</td>\n",
       "      <td>1.610000</td>\n",
       "    </tr>\n",
       "  </tbody>\n",
       "</table>\n",
       "<p>1098203 rows × 6 columns</p>\n",
       "</div>"
      ],
      "text/plain": [
       "         user-id    label        timestamp         X          Y         Z\n",
       "0             33  Jogging   49105962326000 -0.694638  12.680544  0.503953\n",
       "1             33  Jogging   49106062271000  5.012288  11.264028  0.953424\n",
       "2             33  Jogging   49106112167000  4.903325  10.882658 -0.081722\n",
       "3             33  Jogging   49106222305000 -0.612916  18.496431  3.023717\n",
       "4             33  Jogging   49106332290000 -1.184970  12.108489  7.205164\n",
       "...          ...      ...              ...       ...        ...       ...\n",
       "1098199       19  Sitting  131623331483000  9.000000  -1.570000  1.690000\n",
       "1098200       19  Sitting  131623371431000  9.040000  -1.460000  1.730000\n",
       "1098201       19  Sitting  131623411592000  9.080000  -1.380000  1.690000\n",
       "1098202       19  Sitting  131623491487000  9.000000  -1.460000  1.730000\n",
       "1098203       19  Sitting  131623531465000  8.880000  -1.330000  1.610000\n",
       "\n",
       "[1098203 rows x 6 columns]"
      ]
     },
     "execution_count": 5,
     "metadata": {},
     "output_type": "execute_result"
    }
   ],
   "source": [
    "df.rename(columns={'activity': 'label'}, inplace=True)\n",
    "df"
   ]
  },
  {
   "cell_type": "code",
   "execution_count": 6,
   "metadata": {},
   "outputs": [
    {
     "data": {
      "text/plain": [
       "(4500, 4500)"
      ]
     },
     "execution_count": 6,
     "metadata": {},
     "output_type": "execute_result"
    }
   ],
   "source": [
    "df_sitting = df[df['label'] == 'Jogging'].sample(n=4500, random_state=42)\n",
    "df_jogging = df[df['label'] == 'Sitting'].sample(n=4500, random_state=42)\n",
    "len(df_sitting), len(df_jogging)"
   ]
  },
  {
   "cell_type": "code",
   "execution_count": 7,
   "metadata": {},
   "outputs": [
    {
     "data": {
      "text/html": [
       "<div>\n",
       "<style scoped>\n",
       "    .dataframe tbody tr th:only-of-type {\n",
       "        vertical-align: middle;\n",
       "    }\n",
       "\n",
       "    .dataframe tbody tr th {\n",
       "        vertical-align: top;\n",
       "    }\n",
       "\n",
       "    .dataframe thead th {\n",
       "        text-align: right;\n",
       "    }\n",
       "</style>\n",
       "<table border=\"1\" class=\"dataframe\">\n",
       "  <thead>\n",
       "    <tr style=\"text-align: right;\">\n",
       "      <th></th>\n",
       "      <th>user-id</th>\n",
       "      <th>label</th>\n",
       "      <th>timestamp</th>\n",
       "      <th>X</th>\n",
       "      <th>Y</th>\n",
       "      <th>Z</th>\n",
       "    </tr>\n",
       "  </thead>\n",
       "  <tbody>\n",
       "    <tr>\n",
       "      <th>110810</th>\n",
       "      <td>13</td>\n",
       "      <td>Jogging</td>\n",
       "      <td>0</td>\n",
       "      <td>0.00</td>\n",
       "      <td>0.00</td>\n",
       "      <td>0.000000</td>\n",
       "    </tr>\n",
       "    <tr>\n",
       "      <th>164275</th>\n",
       "      <td>6</td>\n",
       "      <td>Jogging</td>\n",
       "      <td>2694792247000</td>\n",
       "      <td>-0.46</td>\n",
       "      <td>-0.46</td>\n",
       "      <td>1.334794</td>\n",
       "    </tr>\n",
       "    <tr>\n",
       "      <th>813141</th>\n",
       "      <td>31</td>\n",
       "      <td>Jogging</td>\n",
       "      <td>23960721626000</td>\n",
       "      <td>19.08</td>\n",
       "      <td>18.35</td>\n",
       "      <td>2.910000</td>\n",
       "    </tr>\n",
       "    <tr>\n",
       "      <th>1002308</th>\n",
       "      <td>2</td>\n",
       "      <td>Jogging</td>\n",
       "      <td>9022662336000</td>\n",
       "      <td>3.06</td>\n",
       "      <td>-0.30</td>\n",
       "      <td>1.920000</td>\n",
       "    </tr>\n",
       "    <tr>\n",
       "      <th>815984</th>\n",
       "      <td>31</td>\n",
       "      <td>Jogging</td>\n",
       "      <td>24102851723000</td>\n",
       "      <td>-0.23</td>\n",
       "      <td>4.25</td>\n",
       "      <td>-4.710000</td>\n",
       "    </tr>\n",
       "    <tr>\n",
       "      <th>...</th>\n",
       "      <td>...</td>\n",
       "      <td>...</td>\n",
       "      <td>...</td>\n",
       "      <td>...</td>\n",
       "      <td>...</td>\n",
       "      <td>...</td>\n",
       "    </tr>\n",
       "    <tr>\n",
       "      <th>503398</th>\n",
       "      <td>32</td>\n",
       "      <td>Sitting</td>\n",
       "      <td>2480612315000</td>\n",
       "      <td>7.74</td>\n",
       "      <td>-1.95</td>\n",
       "      <td>4.560000</td>\n",
       "    </tr>\n",
       "    <tr>\n",
       "      <th>1051607</th>\n",
       "      <td>7</td>\n",
       "      <td>Sitting</td>\n",
       "      <td>209336691499000</td>\n",
       "      <td>-6.47</td>\n",
       "      <td>-3.26</td>\n",
       "      <td>6.850000</td>\n",
       "    </tr>\n",
       "    <tr>\n",
       "      <th>398029</th>\n",
       "      <td>5</td>\n",
       "      <td>Sitting</td>\n",
       "      <td>3079682232000</td>\n",
       "      <td>4.33</td>\n",
       "      <td>3.06</td>\n",
       "      <td>8.008764</td>\n",
       "    </tr>\n",
       "    <tr>\n",
       "      <th>570806</th>\n",
       "      <td>20</td>\n",
       "      <td>Sitting</td>\n",
       "      <td>58707702282000</td>\n",
       "      <td>0.00</td>\n",
       "      <td>4.21</td>\n",
       "      <td>9.110000</td>\n",
       "    </tr>\n",
       "    <tr>\n",
       "      <th>641220</th>\n",
       "      <td>12</td>\n",
       "      <td>Sitting</td>\n",
       "      <td>18725491494000</td>\n",
       "      <td>8.24</td>\n",
       "      <td>-2.03</td>\n",
       "      <td>3.830000</td>\n",
       "    </tr>\n",
       "  </tbody>\n",
       "</table>\n",
       "<p>9000 rows × 6 columns</p>\n",
       "</div>"
      ],
      "text/plain": [
       "         user-id    label        timestamp      X      Y         Z\n",
       "110810        13  Jogging                0   0.00   0.00  0.000000\n",
       "164275         6  Jogging    2694792247000  -0.46  -0.46  1.334794\n",
       "813141        31  Jogging   23960721626000  19.08  18.35  2.910000\n",
       "1002308        2  Jogging    9022662336000   3.06  -0.30  1.920000\n",
       "815984        31  Jogging   24102851723000  -0.23   4.25 -4.710000\n",
       "...          ...      ...              ...    ...    ...       ...\n",
       "503398        32  Sitting    2480612315000   7.74  -1.95  4.560000\n",
       "1051607        7  Sitting  209336691499000  -6.47  -3.26  6.850000\n",
       "398029         5  Sitting    3079682232000   4.33   3.06  8.008764\n",
       "570806        20  Sitting   58707702282000   0.00   4.21  9.110000\n",
       "641220        12  Sitting   18725491494000   8.24  -2.03  3.830000\n",
       "\n",
       "[9000 rows x 6 columns]"
      ]
     },
     "execution_count": 7,
     "metadata": {},
     "output_type": "execute_result"
    }
   ],
   "source": [
    "df_train = pd.concat([df_sitting, df_jogging], axis=0)\n",
    "df_train"
   ]
  },
  {
   "cell_type": "code",
   "execution_count": 8,
   "metadata": {},
   "outputs": [
    {
     "data": {
      "text/html": [
       "<div>\n",
       "<style scoped>\n",
       "    .dataframe tbody tr th:only-of-type {\n",
       "        vertical-align: middle;\n",
       "    }\n",
       "\n",
       "    .dataframe tbody tr th {\n",
       "        vertical-align: top;\n",
       "    }\n",
       "\n",
       "    .dataframe thead th {\n",
       "        text-align: right;\n",
       "    }\n",
       "</style>\n",
       "<table border=\"1\" class=\"dataframe\">\n",
       "  <thead>\n",
       "    <tr style=\"text-align: right;\">\n",
       "      <th></th>\n",
       "      <th>user-id</th>\n",
       "      <th>label</th>\n",
       "      <th>timestamp</th>\n",
       "      <th>X</th>\n",
       "      <th>Y</th>\n",
       "      <th>Z</th>\n",
       "    </tr>\n",
       "  </thead>\n",
       "  <tbody>\n",
       "    <tr>\n",
       "      <th>110810</th>\n",
       "      <td>13</td>\n",
       "      <td>1</td>\n",
       "      <td>0</td>\n",
       "      <td>0.00</td>\n",
       "      <td>0.00</td>\n",
       "      <td>0.000000</td>\n",
       "    </tr>\n",
       "    <tr>\n",
       "      <th>164275</th>\n",
       "      <td>6</td>\n",
       "      <td>1</td>\n",
       "      <td>2694792247000</td>\n",
       "      <td>-0.46</td>\n",
       "      <td>-0.46</td>\n",
       "      <td>1.334794</td>\n",
       "    </tr>\n",
       "    <tr>\n",
       "      <th>813141</th>\n",
       "      <td>31</td>\n",
       "      <td>1</td>\n",
       "      <td>23960721626000</td>\n",
       "      <td>19.08</td>\n",
       "      <td>18.35</td>\n",
       "      <td>2.910000</td>\n",
       "    </tr>\n",
       "    <tr>\n",
       "      <th>1002308</th>\n",
       "      <td>2</td>\n",
       "      <td>1</td>\n",
       "      <td>9022662336000</td>\n",
       "      <td>3.06</td>\n",
       "      <td>-0.30</td>\n",
       "      <td>1.920000</td>\n",
       "    </tr>\n",
       "    <tr>\n",
       "      <th>815984</th>\n",
       "      <td>31</td>\n",
       "      <td>1</td>\n",
       "      <td>24102851723000</td>\n",
       "      <td>-0.23</td>\n",
       "      <td>4.25</td>\n",
       "      <td>-4.710000</td>\n",
       "    </tr>\n",
       "    <tr>\n",
       "      <th>...</th>\n",
       "      <td>...</td>\n",
       "      <td>...</td>\n",
       "      <td>...</td>\n",
       "      <td>...</td>\n",
       "      <td>...</td>\n",
       "      <td>...</td>\n",
       "    </tr>\n",
       "    <tr>\n",
       "      <th>503398</th>\n",
       "      <td>32</td>\n",
       "      <td>0</td>\n",
       "      <td>2480612315000</td>\n",
       "      <td>7.74</td>\n",
       "      <td>-1.95</td>\n",
       "      <td>4.560000</td>\n",
       "    </tr>\n",
       "    <tr>\n",
       "      <th>1051607</th>\n",
       "      <td>7</td>\n",
       "      <td>0</td>\n",
       "      <td>209336691499000</td>\n",
       "      <td>-6.47</td>\n",
       "      <td>-3.26</td>\n",
       "      <td>6.850000</td>\n",
       "    </tr>\n",
       "    <tr>\n",
       "      <th>398029</th>\n",
       "      <td>5</td>\n",
       "      <td>0</td>\n",
       "      <td>3079682232000</td>\n",
       "      <td>4.33</td>\n",
       "      <td>3.06</td>\n",
       "      <td>8.008764</td>\n",
       "    </tr>\n",
       "    <tr>\n",
       "      <th>570806</th>\n",
       "      <td>20</td>\n",
       "      <td>0</td>\n",
       "      <td>58707702282000</td>\n",
       "      <td>0.00</td>\n",
       "      <td>4.21</td>\n",
       "      <td>9.110000</td>\n",
       "    </tr>\n",
       "    <tr>\n",
       "      <th>641220</th>\n",
       "      <td>12</td>\n",
       "      <td>0</td>\n",
       "      <td>18725491494000</td>\n",
       "      <td>8.24</td>\n",
       "      <td>-2.03</td>\n",
       "      <td>3.830000</td>\n",
       "    </tr>\n",
       "  </tbody>\n",
       "</table>\n",
       "<p>9000 rows × 6 columns</p>\n",
       "</div>"
      ],
      "text/plain": [
       "         user-id  label        timestamp      X      Y         Z\n",
       "110810        13      1                0   0.00   0.00  0.000000\n",
       "164275         6      1    2694792247000  -0.46  -0.46  1.334794\n",
       "813141        31      1   23960721626000  19.08  18.35  2.910000\n",
       "1002308        2      1    9022662336000   3.06  -0.30  1.920000\n",
       "815984        31      1   24102851723000  -0.23   4.25 -4.710000\n",
       "...          ...    ...              ...    ...    ...       ...\n",
       "503398        32      0    2480612315000   7.74  -1.95  4.560000\n",
       "1051607        7      0  209336691499000  -6.47  -3.26  6.850000\n",
       "398029         5      0    3079682232000   4.33   3.06  8.008764\n",
       "570806        20      0   58707702282000   0.00   4.21  9.110000\n",
       "641220        12      0   18725491494000   8.24  -2.03  3.830000\n",
       "\n",
       "[9000 rows x 6 columns]"
      ]
     },
     "execution_count": 8,
     "metadata": {},
     "output_type": "execute_result"
    }
   ],
   "source": [
    "df_train['label'] = df_train['label'].replace({'Sitting': 0, 'Jogging': 1})\n",
    "df_train"
   ]
  },
  {
   "cell_type": "code",
   "execution_count": 9,
   "metadata": {},
   "outputs": [],
   "source": [
    "X_train, X_test = train_test_split(df_train, test_size=0.25, random_state=42)"
   ]
  },
  {
   "cell_type": "code",
   "execution_count": 10,
   "metadata": {},
   "outputs": [
    {
     "data": {
      "text/plain": [
       "((6750, 6), (2250, 6))"
      ]
     },
     "execution_count": 10,
     "metadata": {},
     "output_type": "execute_result"
    }
   ],
   "source": [
    "X_train.shape, X_test.shape"
   ]
  },
  {
   "cell_type": "code",
   "execution_count": 11,
   "metadata": {},
   "outputs": [
    {
     "data": {
      "text/plain": [
       "((3368, 5), (2250, 5))"
      ]
     },
     "execution_count": 11,
     "metadata": {},
     "output_type": "execute_result"
    }
   ],
   "source": [
    "sitting = X_train[X_train['label'] == 0]\n",
    "\n",
    "y_train = sitting['label']\n",
    "\n",
    "X_train_sitting_train = sitting.drop(['label'], axis=1)\n",
    "\n",
    "y_test = X_test['label']\n",
    "\n",
    "X_test = X_test.drop(['label'], axis=1)\n",
    "X_train_sitting_train.shape, X_test.shape"
   ]
  },
  {
   "cell_type": "code",
   "execution_count": 12,
   "metadata": {},
   "outputs": [
    {
     "data": {
      "text/html": [
       "<div>\n",
       "<style scoped>\n",
       "    .dataframe tbody tr th:only-of-type {\n",
       "        vertical-align: middle;\n",
       "    }\n",
       "\n",
       "    .dataframe tbody tr th {\n",
       "        vertical-align: top;\n",
       "    }\n",
       "\n",
       "    .dataframe thead th {\n",
       "        text-align: right;\n",
       "    }\n",
       "</style>\n",
       "<table border=\"1\" class=\"dataframe\">\n",
       "  <thead>\n",
       "    <tr style=\"text-align: right;\">\n",
       "      <th></th>\n",
       "      <th>X</th>\n",
       "      <th>Y</th>\n",
       "      <th>Z</th>\n",
       "    </tr>\n",
       "  </thead>\n",
       "  <tbody>\n",
       "    <tr>\n",
       "      <th>892675</th>\n",
       "      <td>1.73</td>\n",
       "      <td>0.31</td>\n",
       "      <td>9.620000</td>\n",
       "    </tr>\n",
       "    <tr>\n",
       "      <th>640918</th>\n",
       "      <td>8.16</td>\n",
       "      <td>-1.99</td>\n",
       "      <td>3.980000</td>\n",
       "    </tr>\n",
       "    <tr>\n",
       "      <th>576284</th>\n",
       "      <td>-1.53</td>\n",
       "      <td>3.64</td>\n",
       "      <td>9.430000</td>\n",
       "    </tr>\n",
       "    <tr>\n",
       "      <th>1095958</th>\n",
       "      <td>8.96</td>\n",
       "      <td>-0.76</td>\n",
       "      <td>2.300000</td>\n",
       "    </tr>\n",
       "    <tr>\n",
       "      <th>573896</th>\n",
       "      <td>-0.99</td>\n",
       "      <td>3.72</td>\n",
       "      <td>9.470000</td>\n",
       "    </tr>\n",
       "    <tr>\n",
       "      <th>...</th>\n",
       "      <td>...</td>\n",
       "      <td>...</td>\n",
       "      <td>...</td>\n",
       "    </tr>\n",
       "    <tr>\n",
       "      <th>829166</th>\n",
       "      <td>0.84</td>\n",
       "      <td>-0.15</td>\n",
       "      <td>9.700000</td>\n",
       "    </tr>\n",
       "    <tr>\n",
       "      <th>459991</th>\n",
       "      <td>5.56</td>\n",
       "      <td>1.73</td>\n",
       "      <td>8.430000</td>\n",
       "    </tr>\n",
       "    <tr>\n",
       "      <th>253579</th>\n",
       "      <td>-4.86</td>\n",
       "      <td>-2.22</td>\n",
       "      <td>7.886181</td>\n",
       "    </tr>\n",
       "    <tr>\n",
       "      <th>469719</th>\n",
       "      <td>5.56</td>\n",
       "      <td>2.56</td>\n",
       "      <td>8.160000</td>\n",
       "    </tr>\n",
       "    <tr>\n",
       "      <th>1097097</th>\n",
       "      <td>8.88</td>\n",
       "      <td>-0.80</td>\n",
       "      <td>2.300000</td>\n",
       "    </tr>\n",
       "  </tbody>\n",
       "</table>\n",
       "<p>3368 rows × 3 columns</p>\n",
       "</div>"
      ],
      "text/plain": [
       "            X     Y         Z\n",
       "892675   1.73  0.31  9.620000\n",
       "640918   8.16 -1.99  3.980000\n",
       "576284  -1.53  3.64  9.430000\n",
       "1095958  8.96 -0.76  2.300000\n",
       "573896  -0.99  3.72  9.470000\n",
       "...       ...   ...       ...\n",
       "829166   0.84 -0.15  9.700000\n",
       "459991   5.56  1.73  8.430000\n",
       "253579  -4.86 -2.22  7.886181\n",
       "469719   5.56  2.56  8.160000\n",
       "1097097  8.88 -0.80  2.300000\n",
       "\n",
       "[3368 rows x 3 columns]"
      ]
     },
     "execution_count": 12,
     "metadata": {},
     "output_type": "execute_result"
    }
   ],
   "source": [
    "features = ['X', 'Y', 'Z']\n",
    "\n",
    "# 피쳐 선택\n",
    "X_train_sitting = X_train_sitting_train[features]\n",
    "X_test = X_test[features]\n",
    "X_train_sitting"
   ]
  },
  {
   "cell_type": "code",
   "execution_count": 13,
   "metadata": {},
   "outputs": [
    {
     "data": {
      "text/plain": [
       "array([[-0.02134624, -0.45921221,  0.82566489],\n",
       "       [ 1.31267736, -1.17109903, -0.70441523],\n",
       "       [-0.69769412,  0.5714761 ,  0.77411964],\n",
       "       ...,\n",
       "       [-1.38856482, -1.24228772,  0.35529585],\n",
       "       [ 0.7732588 ,  0.23719881,  0.42958032],\n",
       "       [ 1.46205481, -0.80277498, -1.16018378]])"
      ]
     },
     "execution_count": 13,
     "metadata": {},
     "output_type": "execute_result"
    }
   ],
   "source": [
    "# 표준화\n",
    "scaler = StandardScaler()\n",
    "X_train_sitting = scaler.fit_transform(X_train_sitting)\n",
    "X_test = scaler.fit_transform(X_test)\n",
    "X_train_sitting"
   ]
  },
  {
   "cell_type": "code",
   "execution_count": 14,
   "metadata": {},
   "outputs": [],
   "source": [
    "from numpy import array\n",
    "def split_sequences(sequences, n_steps):\n",
    "\tX, y = list(), list()\n",
    "\tfor i in range(len(sequences)):\n",
    "\t\t# find the end of this pattern\n",
    "\t\tend_ix = i + n_steps\n",
    "\t\t# check if we are beyond the dataset\n",
    "\t\tif end_ix > len(sequences):\n",
    "\t\t\tbreak\n",
    "\t\t# gather input and output parts of the pattern\n",
    "\t\tseq_x, seq_y = sequences[i:end_ix, :-1], sequences[end_ix-1, -1]\n",
    "\t\tX.append(seq_x)\n",
    "\t\ty.append(seq_y)\n",
    "\treturn array(X), array(y)\n"
   ]
  },
  {
   "cell_type": "code",
   "execution_count": 15,
   "metadata": {},
   "outputs": [
    {
     "name": "stdout",
     "output_type": "stream",
     "text": [
      "(3344, 25, 3) (3344,)\n",
      "(2226, 25, 3) (2226,)\n"
     ]
    }
   ],
   "source": [
    "# Merge train and test X/y data to apply sequence transformation function\n",
    "y_train_array = np.array(y_train)\n",
    "train_set = np.c_[X_train_sitting, y_train_array]\n",
    "\n",
    "y_test_array = np.array(y_test)\n",
    "test_set = np.c_[X_test, y_test_array]\n",
    "\n",
    "# Apply sequence transformation using time step of 25 for both train and test data\n",
    "# All sensing modalities are recorded at a sampling rate of 50 Hz, which is considered sufficient for capturing human activity.\n",
    "\n",
    "X_train, y_train = split_sequences(train_set, 25)\n",
    "print(X_train.shape, y_train.shape)\n",
    "\n",
    "X_test, y_test = split_sequences(test_set, 25)\n",
    "print(X_test.shape, y_test.shape)"
   ]
  },
  {
   "cell_type": "code",
   "execution_count": 18,
   "metadata": {},
   "outputs": [],
   "source": [
    "# define the autoencoder network model\n",
    "def autoencoder_model(X):\n",
    "    inputs = Input(shape=(X.shape[1], X.shape[2]))\n",
    "    L1 = LSTM(16, activation='relu', return_sequences=True, \n",
    "              kernel_regularizer=regularizers.l2(0.00))(inputs)\n",
    "    L2 = LSTM(4, activation='relu', return_sequences=False)(L1)\n",
    "    L3 = RepeatVector(X.shape[1])(L2)\n",
    "    L4 = LSTM(4, activation='relu', return_sequences=True)(L3)\n",
    "    L5 = LSTM(16, activation='relu', return_sequences=True)(L4)\n",
    "    output = TimeDistributed(Dense(X.shape[2]))(L5)    \n",
    "    model = Model(inputs=inputs, outputs=output)\n",
    "    return model"
   ]
  },
  {
   "cell_type": "code",
   "execution_count": 19,
   "metadata": {},
   "outputs": [
    {
     "name": "stdout",
     "output_type": "stream",
     "text": [
      "Model: \"model\"\n",
      "_________________________________________________________________\n",
      " Layer (type)                Output Shape              Param #   \n",
      "=================================================================\n",
      " input_1 (InputLayer)        [(None, 25, 3)]           0         \n",
      "                                                                 \n",
      " lstm (LSTM)                 (None, 25, 16)            1280      \n",
      "                                                                 \n",
      " lstm_1 (LSTM)               (None, 4)                 336       \n",
      "                                                                 \n",
      " repeat_vector (RepeatVector  (None, 25, 4)            0         \n",
      " )                                                               \n",
      "                                                                 \n",
      " lstm_2 (LSTM)               (None, 25, 4)             144       \n",
      "                                                                 \n",
      " lstm_3 (LSTM)               (None, 25, 16)            1344      \n",
      "                                                                 \n",
      " time_distributed (TimeDistr  (None, 25, 3)            51        \n",
      " ibuted)                                                         \n",
      "                                                                 \n",
      "=================================================================\n",
      "Total params: 3,155\n",
      "Trainable params: 3,155\n",
      "Non-trainable params: 0\n",
      "_________________________________________________________________\n"
     ]
    }
   ],
   "source": [
    "#create the autoencoder model\n",
    "\n",
    "model = autoencoder_model(X_train)\n",
    "model.compile(optimizer='adam', loss='mae')\n",
    "model.summary()"
   ]
  },
  {
   "cell_type": "code",
   "execution_count": 21,
   "metadata": {},
   "outputs": [
    {
     "name": "stdout",
     "output_type": "stream",
     "text": [
      "Epoch 1/20\n",
      "318/318 [==============================] - 5s 16ms/step - loss: 0.7386 - val_loss: 0.7413\n",
      "Epoch 2/20\n",
      "318/318 [==============================] - 6s 20ms/step - loss: 0.7375 - val_loss: 0.7418\n",
      "Epoch 3/20\n",
      "318/318 [==============================] - 6s 20ms/step - loss: 0.7361 - val_loss: 0.7392\n",
      "Epoch 4/20\n",
      "318/318 [==============================] - 6s 17ms/step - loss: 0.7346 - val_loss: 0.7345\n",
      "Epoch 5/20\n",
      "318/318 [==============================] - 6s 20ms/step - loss: 0.7329 - val_loss: 0.7338\n",
      "Epoch 6/20\n",
      "318/318 [==============================] - 6s 20ms/step - loss: 0.7321 - val_loss: 0.7336\n",
      "Epoch 7/20\n",
      "318/318 [==============================] - 5s 17ms/step - loss: 0.7313 - val_loss: 0.7314\n",
      "Epoch 8/20\n",
      "318/318 [==============================] - 6s 19ms/step - loss: 0.7305 - val_loss: 0.7342\n",
      "Epoch 9/20\n",
      "318/318 [==============================] - 6s 20ms/step - loss: 0.7304 - val_loss: 0.7328\n",
      "Epoch 10/20\n",
      "318/318 [==============================] - 6s 19ms/step - loss: 0.7297 - val_loss: 0.7304\n",
      "Epoch 11/20\n",
      "318/318 [==============================] - 6s 20ms/step - loss: 0.7364 - val_loss: 0.7311\n",
      "Epoch 12/20\n",
      "318/318 [==============================] - 7s 20ms/step - loss: 0.7289 - val_loss: 0.7301\n",
      "Epoch 13/20\n",
      "318/318 [==============================] - 6s 20ms/step - loss: 0.7281 - val_loss: 0.7301\n",
      "Epoch 14/20\n",
      "318/318 [==============================] - 8s 24ms/step - loss: 0.7281 - val_loss: 0.7273\n",
      "Epoch 15/20\n",
      "318/318 [==============================] - 6s 20ms/step - loss: 0.7277 - val_loss: 0.7279\n",
      "Epoch 16/20\n",
      "318/318 [==============================] - 6s 20ms/step - loss: 0.7274 - val_loss: 0.7299\n",
      "Epoch 17/20\n",
      "318/318 [==============================] - 7s 23ms/step - loss: 0.7272 - val_loss: 0.7304\n",
      "Epoch 18/20\n",
      "318/318 [==============================] - 11s 35ms/step - loss: 0.7269 - val_loss: 0.7296\n",
      "Epoch 19/20\n",
      "318/318 [==============================] - 10s 32ms/step - loss: 0.7265 - val_loss: 0.7280\n",
      "Epoch 20/20\n",
      "318/318 [==============================] - 10s 33ms/step - loss: 0.7265 - val_loss: 0.7262\n"
     ]
    }
   ],
   "source": [
    "# fit the model to the data\n",
    "nb_epochs = 20\n",
    "batch_size = 10\n",
    "history = model.fit(X_train, X_train, epochs=nb_epochs, batch_size=batch_size,\n",
    "                    validation_split=0.05).history"
   ]
  },
  {
   "cell_type": "code",
   "execution_count": 22,
   "metadata": {},
   "outputs": [
    {
     "data": {
      "image/png": "[encoded data removed]",
      "text/plain": [
       "<Figure size 1120x480 with 1 Axes>"
      ]
     },
     "metadata": {},
     "output_type": "display_data"
    }
   ],
   "source": [
    "# plot the training losses\n",
    "fig, ax = plt.subplots(figsize=(14, 6), dpi=80)\n",
    "ax.plot(history['loss'], 'b', label='Train', linewidth=2)\n",
    "ax.plot(history['val_loss'], 'r', label='Validation', linewidth=2)\n",
    "ax.set_title('Model loss', fontsize=16)\n",
    "ax.set_ylabel('Loss (mae)')\n",
    "ax.set_xlabel('Epoch')\n",
    "ax.legend(loc='upper right')\n",
    "plt.show()"
   ]
  },
  {
   "cell_type": "code",
   "execution_count": 53,
   "metadata": {},
   "outputs": [
    {
     "name": "stdout",
     "output_type": "stream",
     "text": [
      "70/70 [==============================] - 0s 4ms/step\n"
     ]
    },
    {
     "data": {
      "text/plain": [
       "array([[[ 0.0883079 ,  0.1942635 ,  0.36701435],\n",
       "        [ 0.12717749,  0.21470729,  0.37724674],\n",
       "        [ 0.30725652,  0.21271415,  0.3625386 ],\n",
       "        ...,\n",
       "        [-0.64319694,  0.34762156,  0.5108402 ],\n",
       "        [-0.64251924,  0.35735923,  0.50778913],\n",
       "        [-0.64938396,  0.34637386,  0.5065713 ]],\n",
       "\n",
       "       [[ 0.23615964,  0.1905767 ,  0.35604715],\n",
       "        [ 0.41210562,  0.20480433,  0.34864315],\n",
       "        [ 0.5587287 ,  0.20184678,  0.31043875],\n",
       "        ...,\n",
       "        [ 0.10430124,  0.3125378 ,  0.38958296],\n",
       "        [ 0.25144398,  0.32883936,  0.36472628],\n",
       "        [ 0.3282971 ,  0.3487519 ,  0.35517237]],\n",
       "\n",
       "       [[ 0.26694712,  0.19049695,  0.35416365],\n",
       "        [ 0.4460581 ,  0.20470701,  0.34219736],\n",
       "        [ 0.5937846 ,  0.20083474,  0.29523998],\n",
       "        ...,\n",
       "        [ 0.1312758 ,  0.33399796,  0.39039776],\n",
       "        [ 0.18388875,  0.3548981 ,  0.38640767],\n",
       "        [ 0.14864421,  0.38010293,  0.40163246]],\n",
       "\n",
       "       ...,\n",
       "\n",
       "       [[-0.14942957,  0.2244092 ,  0.4371777 ],\n",
       "        [-0.30060416,  0.25147188,  0.4675734 ],\n",
       "        [-0.43266392,  0.26414415,  0.49099523],\n",
       "        ...,\n",
       "        [-0.6220523 ,  0.35329878,  0.51437724],\n",
       "        [-0.6249572 ,  0.3151863 ,  0.5207701 ],\n",
       "        [-0.6375482 ,  0.20876694,  0.52216834]],\n",
       "\n",
       "       [[-0.17699085,  0.22577448,  0.44199848],\n",
       "        [-0.34735554,  0.25378996,  0.47443175],\n",
       "        [-0.4762172 ,  0.2677826 ,  0.497164  ],\n",
       "        ...,\n",
       "        [-0.48993248, -0.08453056,  0.4944209 ],\n",
       "        [-0.49971563, -0.36335635,  0.4802125 ],\n",
       "        [-0.4674036 , -0.64554423,  0.4734773 ]],\n",
       "\n",
       "       [[-0.29377115,  0.23171958,  0.46228212],\n",
       "        [-0.5453312 ,  0.26630092,  0.5039471 ],\n",
       "        [-0.6678948 ,  0.29061827,  0.5237186 ],\n",
       "        ...,\n",
       "        [-0.4373048 , -0.73011136,  0.485444  ],\n",
       "        [-0.31866902, -0.8600728 ,  0.47855294],\n",
       "        [-0.21401419, -0.9188402 ,  0.39615414]]], dtype=float32)"
      ]
     },
     "execution_count": 53,
     "metadata": {},
     "output_type": "execute_result"
    }
   ],
   "source": [
    "predictions = model.predict(X_test)\n",
    "# 3차원 배열을 2차원 배열로 변환\n",
    "# predictions = predictions.reshape(-1, predictions.shape[-1])\n",
    "predictions"
   ]
  },
  {
   "cell_type": "code",
   "execution_count": 56,
   "metadata": {},
   "outputs": [
    {
     "data": {
      "text/plain": [
       "array([[[ 0.33900696,  0.78876029, -0.29465691],\n",
       "        [-0.95294567,  0.65002906,  0.15640261],\n",
       "        [-0.10693895,  1.31316431, -1.24424109],\n",
       "        ...,\n",
       "        [-1.10637401, -0.94399268,  0.582139  ],\n",
       "        [-0.79234779, -0.01449349,  0.8222343 ],\n",
       "        [ 0.33900696,  0.78876029, -0.32623106]],\n",
       "\n",
       "       [[-0.95294567,  0.65002906,  0.15640261],\n",
       "        [-0.10693895,  1.31316431, -1.24424109],\n",
       "        [ 0.47522838,  0.5862127 ,  0.30230379],\n",
       "        ...,\n",
       "        [-0.79234779, -0.01449349,  0.8222343 ],\n",
       "        [ 0.33900696,  0.78876029, -0.32623106],\n",
       "        [ 1.20508842,  2.21630457, -1.21940365]],\n",
       "\n",
       "       [[-0.10693895,  1.31316431, -1.24424109],\n",
       "        [ 0.47522838,  0.5862127 ,  0.30230379],\n",
       "        [-1.10637401, -0.97173893,  0.59372981],\n",
       "        ...,\n",
       "        [ 0.33900696,  0.78876029, -0.32623106],\n",
       "        [ 1.20508842,  2.21630457, -1.21940365],\n",
       "        [-0.03524347, -0.51947514,  1.10206951]],\n",
       "\n",
       "       ...,\n",
       "\n",
       "       [[-0.00799919, -0.53057364,  1.08385538],\n",
       "        [-1.49496354,  1.924969  , -1.57566593],\n",
       "        [ 1.42591051,  0.6652895 ,  0.36614529],\n",
       "        ...,\n",
       "        [-0.72208621, -0.07969717,  0.90502578],\n",
       "        [-1.2225207 ,  0.84147815,  0.34133699],\n",
       "        [-0.40805999, -1.08272391,  0.65002801]],\n",
       "\n",
       "       [[-1.49496354,  1.924969  , -1.57566593],\n",
       "        [ 1.42591051,  0.6652895 ,  0.36614529],\n",
       "        [-0.48549111, -0.07969717,  1.02093385],\n",
       "        ...,\n",
       "        [-1.2225207 ,  0.84147815,  0.34133699],\n",
       "        [-0.40805999, -1.08272391,  0.65002801],\n",
       "        [ 1.65676997, -1.00919636,  1.26599664]],\n",
       "\n",
       "       [[ 1.42591051,  0.6652895 ,  0.36614529],\n",
       "        [-0.48549111, -0.07969717,  1.02093385],\n",
       "        [-0.55288487, -0.003395  ,  0.9563565 ],\n",
       "        ...,\n",
       "        [-0.40805999, -1.08272391,  0.65002801],\n",
       "        [ 1.65676997, -1.00919636,  1.26599664],\n",
       "        [-1.13792002, -0.58329151, -1.66978931]]])"
      ]
     },
     "execution_count": 56,
     "metadata": {},
     "output_type": "execute_result"
    }
   ],
   "source": [
    "X_test"
   ]
  },
  {
   "cell_type": "code",
   "execution_count": 68,
   "metadata": {},
   "outputs": [
    {
     "data": {
      "text/plain": [
       "array([0.82957861, 0.89285342, 0.89324881, ..., 1.30383528, 1.34381475,\n",
       "       1.28527606])"
      ]
     },
     "execution_count": 68,
     "metadata": {},
     "output_type": "execute_result"
    }
   ],
   "source": [
    "mse = np.mean(np.power(X_test - predictions, 2), axis=1)\n",
    "# 각 행을 평균하여 1차원 배열로 바꾸기\n",
    "mse = np.mean(mse, axis=1)\n",
    "mse"
   ]
  },
  {
   "cell_type": "code",
   "execution_count": 69,
   "metadata": {},
   "outputs": [
    {
     "data": {
      "text/plain": [
       "(1.042990437465979, 2226)"
      ]
     },
     "execution_count": 69,
     "metadata": {},
     "output_type": "execute_result"
    }
   ],
   "source": [
    "np.mean(mse), len(mse)"
   ]
  },
  {
   "cell_type": "code",
   "execution_count": 70,
   "metadata": {},
   "outputs": [],
   "source": [
    "threshold = 1.0429904374659793"
   ]
  },
  {
   "cell_type": "code",
   "execution_count": 71,
   "metadata": {},
   "outputs": [
    {
     "data": {
      "text/plain": [
       "2226"
      ]
     },
     "execution_count": 71,
     "metadata": {},
     "output_type": "execute_result"
    }
   ],
   "source": [
    "import seaborn as sns\n",
    "from sklearn.metrics import precision_recall_fscore_support\n",
    "from sklearn.metrics import accuracy_score\n",
    "\n",
    "LABELS = [\"Sitting\", \"Jogging\"]\n",
    "\n",
    "y_pred = [1 if e > threshold else 0 for e in mse.flatten()]\n",
    "len(y_pred)\n"
   ]
  },
  {
   "cell_type": "code",
   "execution_count": 72,
   "metadata": {},
   "outputs": [
    {
     "data": {
      "image/png": "[encoded data removed]",
      "text/plain": [
       "<Figure size 1200x1200 with 2 Axes>"
      ]
     },
     "metadata": {},
     "output_type": "display_data"
    }
   ],
   "source": [
    "conf_matrix = confusion_matrix(y_test, y_pred)\n",
    "plt.figure(figsize=(12, 12))\n",
    "sns.heatmap(conf_matrix, xticklabels=LABELS, yticklabels=LABELS, annot=True, fmt=\"d\");\n",
    "plt.title(\"Confusion matrix\")\n",
    "plt.ylabel('True class')\n",
    "plt.xlabel('Predicted class')\n",
    "plt.show()\n"
   ]
  },
  {
   "cell_type": "code",
   "execution_count": 74,
   "metadata": {},
   "outputs": [
    {
     "name": "stdout",
     "output_type": "stream",
     "text": [
      "Accuracy Score : 0.5314465408805031\n",
      "Precision : 0.5330700888450148\n",
      "Recall : 0.4864864864864865\n",
      "F1 : 0.5087140838436176\n"
     ]
    }
   ],
   "source": [
    "from sklearn.metrics import precision_recall_fscore_support\n",
    "\n",
    "from sklearn.metrics import accuracy_score\n",
    "\n",
    "precision, recall, f1,_ = precision_recall_fscore_support(y_test,y_pred,average='binary')\n",
    "\n",
    "print ('Accuracy Score :',accuracy_score(y_test, y_pred) )\n",
    "\n",
    "print ('Precision :',precision )\n",
    "\n",
    "print ('Recall :',recall )\n",
    "\n",
    "print ('F1 :',f1 )"
   ]
  }
 ],
 "metadata": {
  "kernelspec": {
   "display_name": "dl",
   "language": "python",
   "name": "dl"
  },
  "language_info": {
   "codemirror_mode": {
    "name": "ipython",
    "version": 3
   },
   "file_extension": ".py",
   "mimetype": "text/x-python",
   "name": "python",
   "nbconvert_exporter": "python",
   "pygments_lexer": "ipython3",
   "version": "3.7.16"
  }
 },
 "nbformat": 4,
 "nbformat_minor": 2
}
